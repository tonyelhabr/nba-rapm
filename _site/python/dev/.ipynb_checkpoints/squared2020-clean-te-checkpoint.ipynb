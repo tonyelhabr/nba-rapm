{
 "cells": [
  {
   "cell_type": "code",
   "execution_count": 26,
   "metadata": {},
   "outputs": [
    {
     "name": "stdout",
     "output_type": "stream",
     "text": [
      "Python version: 3.6.5 |Anaconda, Inc.| (default, Mar 29 2018, 13:32:41) [MSC v.1900 64 bit (AMD64)]\n",
      "pandas version: 0.23.0\n",
      "numpy version: 1.14.3\n"
     ]
    }
   ],
   "source": [
    "import sys\n",
    "import pandas as pd\n",
    "import numpy as np\n",
    "from janitor import *\n",
    "from IPython.display import display\n",
    "\n",
    "path = '../data-raw/play_by_play_with_lineup_2017.csv'\n",
    "print(f'Python version: {sys.version}')\n",
    "print(f'pandas version: {pd.__version__}')\n",
    "print(f'numpy version: {np.__version__}')\n",
    "# pd.set_option('display.max_rows', 50)\n",
    "# pd.set_option('display.max_columns', 50)\n",
    "# pd.set_option('display.width', 1000)"
   ]
  },
  {
   "cell_type": "code",
   "execution_count": 27,
   "metadata": {},
   "outputs": [],
   "source": [
    "def display_head(df):\n",
    "    display(df.head())"
   ]
  },
  {
   "cell_type": "code",
   "execution_count": 28,
   "metadata": {},
   "outputs": [],
   "source": [
    "raw_shots_all = pd.read_csv(path)\n",
    "raw_shots_all = clean_names(raw_shots_all)"
   ]
  },
  {
   "cell_type": "code",
   "execution_count": 29,
   "metadata": {},
   "outputs": [
    {
     "name": "stdout",
     "output_type": "stream",
     "text": [
      "(599582, 39)\n",
      "Index(['unnamed_0', 'primarykey', 'gameid', 'eventnumber', 'playtype',\n",
      "       'eventactiontype', 'period', 'wctimestring', 'pctimestring',\n",
      "       'homedescription', 'neutraldescription', 'awaydescription', 'homescore',\n",
      "       'awayscore', 'player1type', 'player1id', 'player1teamid', 'player2type',\n",
      "       'player2id', 'player2teamid', 'player3type', 'player3id',\n",
      "       'player3teamid', 'teamid1', 'team1player1id', 'team1player2id',\n",
      "       'team1player3id', 'team1player4id', 'team1player5id', 'teamid2',\n",
      "       'team2player1id', 'team2player2id', 'team2player3id', 'team2player4id',\n",
      "       'team2player5id', 'timeelapsed', 'season', 'seasontype', 'dt'],\n",
      "      dtype='object')\n"
     ]
    }
   ],
   "source": [
    "# display_head(raw_shots_all)\n",
    "print(raw_shots_all.shape)\n",
    "print(raw_shots_all.columns)"
   ]
  },
  {
   "cell_type": "code",
   "execution_count": null,
   "metadata": {},
   "outputs": [],
   "source": [
    "shots_all = raw_shots_all.copy()"
   ]
  },
  {
   "cell_type": "code",
   "execution_count": null,
   "metadata": {},
   "outputs": [],
   "source": [
    "# shots_all['description'] = (\n",
    "#     shots_all['homedescription'].where(pd.notnull, raw_shots_all['awaydescription'])\n",
    "# )"
   ]
  },
  {
   "cell_type": "code",
   "execution_count": 37,
   "metadata": {},
   "outputs": [],
   "source": [
    "shots_all = (\n",
    "    shots_all\n",
    "    .query('seasontype == \"Regular Season\"')\n",
    "    .coalesce(columns=['homedescription', 'awaydescription'], new_column_name='description')\n",
    "    .rename(columns={'gameid': 'id_game'})\n",
    ")\n"
   ]
  },
  {
   "cell_type": "code",
   "execution_count": 38,
   "metadata": {},
   "outputs": [
    {
     "name": "stdout",
     "output_type": "stream",
     "text": [
      "(562230, 38)\n"
     ]
    }
   ],
   "source": [
    "print(shots_all.shape)"
   ]
  },
  {
   "cell_type": "code",
   "execution_count": null,
   "metadata": {},
   "outputs": [],
   "source": []
  }
 ],
 "metadata": {
  "kernelspec": {
   "display_name": "Python 3",
   "language": "python",
   "name": "python3"
  },
  "language_info": {
   "codemirror_mode": {
    "name": "ipython",
    "version": 3
   },
   "file_extension": ".py",
   "mimetype": "text/x-python",
   "name": "python",
   "nbconvert_exporter": "python",
   "pygments_lexer": "ipython3",
   "version": "3.6.5"
  }
 },
 "nbformat": 4,
 "nbformat_minor": 2
}
